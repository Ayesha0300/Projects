{
  "cells": [
    {
      "cell_type": "markdown",
      "metadata": {
        "id": "view-in-github",
        "colab_type": "text"
      },
      "source": [
        "<a href=\"https://colab.research.google.com/github/Ayesha0300/Projects/blob/main/openrouter_ai_agents_sdk.ipynb\" target=\"_parent\"><img src=\"https://colab.research.google.com/assets/colab-badge.svg\" alt=\"Open In Colab\"/></a>"
      ]
    },
    {
      "cell_type": "markdown",
      "metadata": {
        "id": "o92NPvIPpmCv"
      },
      "source": [
        "# Use OpenRouter With OpenAI Agents SDK"
      ]
    },
    {
      "cell_type": "markdown",
      "metadata": {
        "id": "l5oT3E8gqY_O"
      },
      "source": [
        "Setup Prerequisite:\n",
        "\n",
        "1. [Signup at OpenRouter](https://openrouter.ai/)\n",
        "2. [Create an API Key](https://openrouter.ai/settings/keys)\n",
        "2. Select a Free Model (you can continue as we are using a free model here)"
      ]
    },
    {
      "cell_type": "markdown",
      "metadata": {
        "id": "-Zh5JPz1qLbD"
      },
      "source": [
        "## Free and Paid Models"
      ]
    },
    {
      "cell_type": "markdown",
      "metadata": {
        "id": "3NksiafzqSg7"
      },
      "source": [
        "The OpenRouter supports the latest DeepSeek V3 0324 and 50+ other models for free. Most of them support the defacto standard: OpenAI Chat Completion API.\n",
        "\n",
        "\n",
        "If you are using a free model variant (with an ID ending in :free), then you will be limited to 20 requests per minute and 200 requests per day.\n",
        "\n",
        "**See all Models List: https://openrouter.ai/models**\n",
        "\n",
        "Note: OpenRouter do not charge anything extra at inference time."
      ]
    },
    {
      "cell_type": "markdown",
      "metadata": {
        "id": "Krf3ozmkpsVs"
      },
      "source": [
        "## Rate Limiting and Crediting"
      ]
    },
    {
      "cell_type": "markdown",
      "metadata": {
        "id": "WhcFykdIqKI4"
      },
      "source": [
        "There are a few rate limits that apply to certain types of requests, regardless of account status:\n",
        "\n",
        "- Free limit: If you are using a free model variant (with an ID ending in :free), then you will be limited to 20 requests per minute and 200 requests per day.\n",
        "\n",
        "If your account has a negative credit balance, you may see 402 errors, including for free models. Adding credits to put your balance above zero allows you to use those models again.\n",
        "\n",
        "[Reference](https://openrouter.ai/docs/api-reference/limits)"
      ]
    },
    {
      "cell_type": "markdown",
      "metadata": {
        "id": "GqX_s5idrryf"
      },
      "source": [
        "## Install OpenAI Agents Dep."
      ]
    },
    {
      "cell_type": "code",
      "execution_count": 1,
      "metadata": {
        "id": "7teAe2rONlBe",
        "colab": {
          "base_uri": "https://localhost:8080/"
        },
        "outputId": "b02ca084-9315-4cf2-9eb1-1f111e6d54e9"
      },
      "outputs": [
        {
          "output_type": "stream",
          "name": "stdout",
          "text": [
            "\u001b[?25l   \u001b[90m━━━━━━━━━━━━━━━━━━━━━━━━━━━━━━━━━━━━━━━━\u001b[0m \u001b[32m0.0/116.8 kB\u001b[0m \u001b[31m?\u001b[0m eta \u001b[36m-:--:--\u001b[0m\r\u001b[2K   \u001b[90m━━━━━━━━━━━━━━━━━━━━━━━━━━━━━━━━━━━━━━━━\u001b[0m \u001b[32m116.8/116.8 kB\u001b[0m \u001b[31m4.2 MB/s\u001b[0m eta \u001b[36m0:00:00\u001b[0m\n",
            "\u001b[2K   \u001b[90m━━━━━━━━━━━━━━━━━━━━━━━━━━━━━━━━━━━━━━━━\u001b[0m \u001b[32m129.3/129.3 kB\u001b[0m \u001b[31m8.0 MB/s\u001b[0m eta \u001b[36m0:00:00\u001b[0m\n",
            "\u001b[2K   \u001b[90m━━━━━━━━━━━━━━━━━━━━━━━━━━━━━━━━━━━━━━━━\u001b[0m \u001b[32m76.1/76.1 kB\u001b[0m \u001b[31m4.5 MB/s\u001b[0m eta \u001b[36m0:00:00\u001b[0m\n",
            "\u001b[2K   \u001b[90m━━━━━━━━━━━━━━━━━━━━━━━━━━━━━━━━━━━━━━━━\u001b[0m \u001b[32m661.2/661.2 kB\u001b[0m \u001b[31m21.9 MB/s\u001b[0m eta \u001b[36m0:00:00\u001b[0m\n",
            "\u001b[2K   \u001b[90m━━━━━━━━━━━━━━━━━━━━━━━━━━━━━━━━━━━━━━━━\u001b[0m \u001b[32m44.4/44.4 kB\u001b[0m \u001b[31m2.5 MB/s\u001b[0m eta \u001b[36m0:00:00\u001b[0m\n",
            "\u001b[2K   \u001b[90m━━━━━━━━━━━━━━━━━━━━━━━━━━━━━━━━━━━━━━━━\u001b[0m \u001b[32m72.0/72.0 kB\u001b[0m \u001b[31m4.7 MB/s\u001b[0m eta \u001b[36m0:00:00\u001b[0m\n",
            "\u001b[2K   \u001b[90m━━━━━━━━━━━━━━━━━━━━━━━━━━━━━━━━━━━━━━━━\u001b[0m \u001b[32m62.5/62.5 kB\u001b[0m \u001b[31m3.8 MB/s\u001b[0m eta \u001b[36m0:00:00\u001b[0m\n",
            "\u001b[?25h"
          ]
        }
      ],
      "source": [
        "!pip install -Uq openai-agents"
      ]
    },
    {
      "cell_type": "code",
      "execution_count": 2,
      "metadata": {
        "id": "z3_PWpn4OIyT"
      },
      "outputs": [],
      "source": [
        "import nest_asyncio\n",
        "nest_asyncio.apply()"
      ]
    },
    {
      "cell_type": "markdown",
      "metadata": {
        "id": "ZTOibVJuN_pi"
      },
      "source": [
        "## Provider Config"
      ]
    },
    {
      "cell_type": "code",
      "execution_count": 4,
      "metadata": {
        "id": "zvmgohqY0-Wm"
      },
      "outputs": [],
      "source": [
        "from google.colab import userdata\n",
        "\n",
        "OPENROUTER_API_KEY = userdata.get(\"OPENROUTER_API_KEY\")"
      ]
    },
    {
      "cell_type": "code",
      "execution_count": 17,
      "metadata": {
        "id": "DeTqCZKGlVk_"
      },
      "outputs": [],
      "source": [
        "#Reference: https://openrouter.ai/docs/quickstart\n",
        "\n",
        "BASE_URL = \"https://openrouter.ai/api/v1\"\n",
        "MODEL = \"moonshotai/kimi-vl-a3b-thinking:free\"\n",
        "\n",
        "# Some other free models on 26th March:\n",
        "# https://openrouter.ai/deepseek/deepseek-chat-v3-0324:free\n",
        "# https://openrouter.ai/google/gemini-2.5-pro-exp-03-25:free"
      ]
    },
    {
      "cell_type": "markdown",
      "metadata": {
        "id": "IyWF4XNPtI7f"
      },
      "source": [
        "## 1. Using the OpenRouter API directly"
      ]
    },
    {
      "cell_type": "code",
      "execution_count": 18,
      "metadata": {
        "colab": {
          "base_uri": "https://localhost:8080/"
        },
        "id": "e0if6eGutM9h",
        "outputId": "316bad25-d294-4788-8e2a-de2d61086bd6"
      },
      "outputs": [
        {
          "output_type": "stream",
          "name": "stdout",
          "text": [
            "{'id': 'gen-1745742788-7KxT4FSmmkU1eppoHe62', 'provider': 'Chutes', 'model': 'moonshotai/kimi-vl-a3b-thinking:free', 'object': 'chat.completion', 'created': 1745742788, 'choices': [{'logprobs': None, 'finish_reason': 'stop', 'native_finish_reason': 'stop', 'index': 0, 'message': {'role': 'assistant', 'content': '◁think▷Alright, the user asked, \"What is the meaning of life?\" That\\'s a big question. I need to break it down. First, I should acknowledge that it\\'s a complex and personal topic. People have different philosophical or religious views on this.\\n\\nI should probably mention some common perspectives. Maybe introduce the existentialist idea that life has no inherent meaning, but individuals create their own meaning. Then talk about religious or spiritual viewpoints, like in religions such as Christianity or Buddhism, where life might have a purpose related to a higher power or spiritual growth.\\n\\nDon\\'t forget secular perspectives. Some people might approach it through science or personal fulfillment. Emphasize that there\\'s no one correct answer, which is okay, as it\\'s a question many explore throughout their lives.\\n\\nAlso, consider cultural differences in midlife crises and how different societies address the concept of life\\'s meaning. Maybe mention historical figures who\\'ve pondered this, like Camus or Nietzsche, who debated the absurdity of seeking inherent meaning in life.\\n\\nIt\\'s important to be respectful and non-judgmental, not asserting any one view as the truth. Encourage the user to explore these ideas themselves, since the answer can vary so much based on individual beliefs and experiences.\\n\\nI should structure the response to cover different angles: subjective meaning, philosophical, religious, scientific, and cultural. Wrap it up by saying it\\'s a deeply personal journey and everyone\\'s answer might be different. Avoid being too technical but provide enough depth to cover the main points.◁/think▷The question of life\\'s meaning is among the most profound and personal inquiries humans grapple with. There is no single, universally accepted answer, as perspectives vary widely depending on philosophical, religious, cultural, and individual beliefs. Here are some frameworks often explored:\\n\\n1. **Subjective Meaning**: Existentialism, notably proponents like Albert Camus and Jean-Paul Sartre, suggests that life lacks inherent meaning, and individuals must create their own purpose through choices, passions, and actions. Camus famously coined \"the absurd\" to describe the tension between humanity\\'s search for meaning and the universe\\'s indifference to it.\\n\\n2. **Spiritual/Religious Views**: Many religions propose a transcendent purpose. For instance:\\n   - **Theistic**: In Christianity, Islam, or Hinduism, life may be seen as a journey toward union with the divine or fulfilling a divine plan.\\n   - **Buddhism**: Life\\'s meaning might lie in overcoming suffering (dukkha) through enlightenment (nirvana) or ethical living.\\n   - **Non-Western Traditions**: Indigenous cultures often emphasize harmony with nature, community, or ancestral legacy.\\n\\n3. **Humanist/Phenomenological**: Some emphasize creating shared meaning through relationships, art, knowledge, or contributing to societal well-being. Albert Einstein once asked, “What is the meaning of life? ... For me, philosophy is not a source of consolation… [but] a way to meet the world… and help realize some possibilities of life.”\\n\\n4. **Scientific Lens**: From a biological perspective, life’s \"meaning\" might be framed as the persistence of genetic information across generations, or the evolution of consciousness. However, science often struggles to address \"purpose\" beyond observable mechanisms.\\n\\n5. **Cultural & Timeless Questions**: Socrates, Marcus Aurelius, the Roman RubiconResolver, and novelists alike have confronted this. The *Dhammapada* (Buddhist scripture) recommends controlling one’s desires as a route to fulfillment.\\n\\n**In short**: The answer depends on which questions resonate deeply for you – among countless others. Some find answers in love, creativity, curiosity, or legacy; others find uncertainty liberating. The \"impermanence\" of the question itself may itself be a theme worth embracing—a reminder of the profound richness of human inquiry. What do *you* believe?', 'refusal': None, 'reasoning': None}}], 'usage': {'prompt_tokens': 23, 'completion_tokens': 794, 'total_tokens': 817}}\n"
          ]
        }
      ],
      "source": [
        "import requests\n",
        "import json\n",
        "\n",
        "response = requests.post(\n",
        "  url=f\"{BASE_URL}/chat/completions\",\n",
        "  headers={\n",
        "    \"Authorization\": f\"Bearer {OPENROUTER_API_KEY}\",\n",
        "  },\n",
        "  data=json.dumps({\n",
        "    \"model\": MODEL,\n",
        "    \"messages\": [\n",
        "      {\n",
        "        \"role\": \"user\",\n",
        "        \"content\": \"What is the meaning of life?\"\n",
        "      }\n",
        "    ]\n",
        "  })\n",
        ")\n",
        "\n",
        "print(response.json())"
      ]
    },
    {
      "cell_type": "code",
      "execution_count": 19,
      "metadata": {
        "colab": {
          "base_uri": "https://localhost:8080/",
          "height": 226
        },
        "id": "mv3B6_oRto5S",
        "outputId": "5bad534a-6db0-45e5-f494-dde3839d413d"
      },
      "outputs": [
        {
          "output_type": "execute_result",
          "data": {
            "text/plain": [
              "'◁think▷Alright, the user asked, \"What is the meaning of life?\" That\\'s a big question. I need to break it down. First, I should acknowledge that it\\'s a complex and personal topic. People have different philosophical or religious views on this.\\n\\nI should probably mention some common perspectives. Maybe introduce the existentialist idea that life has no inherent meaning, but individuals create their own meaning. Then talk about religious or spiritual viewpoints, like in religions such as Christianity or Buddhism, where life might have a purpose related to a higher power or spiritual growth.\\n\\nDon\\'t forget secular perspectives. Some people might approach it through science or personal fulfillment. Emphasize that there\\'s no one correct answer, which is okay, as it\\'s a question many explore throughout their lives.\\n\\nAlso, consider cultural differences in midlife crises and how different societies address the concept of life\\'s meaning. Maybe mention historical figures who\\'ve pondered this, like Camus or Nietzsche, who debated the absurdity of seeking inherent meaning in life.\\n\\nIt\\'s important to be respectful and non-judgmental, not asserting any one view as the truth. Encourage the user to explore these ideas themselves, since the answer can vary so much based on individual beliefs and experiences.\\n\\nI should structure the response to cover different angles: subjective meaning, philosophical, religious, scientific, and cultural. Wrap it up by saying it\\'s a deeply personal journey and everyone\\'s answer might be different. Avoid being too technical but provide enough depth to cover the main points.◁/think▷The question of life\\'s meaning is among the most profound and personal inquiries humans grapple with. There is no single, universally accepted answer, as perspectives vary widely depending on philosophical, religious, cultural, and individual beliefs. Here are some frameworks often explored:\\n\\n1. **Subjective Meaning**: Existentialism, notably proponents like Albert Camus and Jean-Paul Sartre, suggests that life lacks inherent meaning, and individuals must create their own purpose through choices, passions, and actions. Camus famously coined \"the absurd\" to describe the tension between humanity\\'s search for meaning and the universe\\'s indifference to it.\\n\\n2. **Spiritual/Religious Views**: Many religions propose a transcendent purpose. For instance:\\n   - **Theistic**: In Christianity, Islam, or Hinduism, life may be seen as a journey toward union with the divine or fulfilling a divine plan.\\n   - **Buddhism**: Life\\'s meaning might lie in overcoming suffering (dukkha) through enlightenment (nirvana) or ethical living.\\n   - **Non-Western Traditions**: Indigenous cultures often emphasize harmony with nature, community, or ancestral legacy.\\n\\n3. **Humanist/Phenomenological**: Some emphasize creating shared meaning through relationships, art, knowledge, or contributing to societal well-being. Albert Einstein once asked, “What is the meaning of life? ... For me, philosophy is not a source of consolation… [but] a way to meet the world… and help realize some possibilities of life.”\\n\\n4. **Scientific Lens**: From a biological perspective, life’s \"meaning\" might be framed as the persistence of genetic information across generations, or the evolution of consciousness. However, science often struggles to address \"purpose\" beyond observable mechanisms.\\n\\n5. **Cultural & Timeless Questions**: Socrates, Marcus Aurelius, the Roman RubiconResolver, and novelists alike have confronted this. The *Dhammapada* (Buddhist scripture) recommends controlling one’s desires as a route to fulfillment.\\n\\n**In short**: The answer depends on which questions resonate deeply for you – among countless others. Some find answers in love, creativity, curiosity, or legacy; others find uncertainty liberating. The \"impermanence\" of the question itself may itself be a theme worth embracing—a reminder of the profound richness of human inquiry. What do *you* believe?'"
            ],
            "application/vnd.google.colaboratory.intrinsic+json": {
              "type": "string"
            }
          },
          "metadata": {},
          "execution_count": 19
        }
      ],
      "source": [
        "data = response.json()\n",
        "data['choices'][0]['message']['content']"
      ]
    },
    {
      "cell_type": "markdown",
      "metadata": {
        "id": "E_jESzWAsu91"
      },
      "source": [
        "## 2. Using OpenAI Agents SDK"
      ]
    },
    {
      "cell_type": "code",
      "execution_count": null,
      "metadata": {
        "colab": {
          "base_uri": "https://localhost:8080/"
        },
        "id": "QA4vWqtvN6wm",
        "outputId": "06f541a6-931e-491c-a586-3b1f4a860f87"
      },
      "outputs": [
        {
          "name": "stdout",
          "output_type": "stream",
          "text": [
            "A function calls self,\n",
            "Breaking tasks into smaller,\n",
            "Until base is reached.\n",
            "\n"
          ]
        }
      ],
      "source": [
        "import asyncio\n",
        "from openai import AsyncOpenAI\n",
        "from agents import Agent, OpenAIChatCompletionsModel, Runner, set_tracing_disabled\n",
        "\n",
        "client = AsyncOpenAI(\n",
        "    api_key=OPENROUTER_API_KEY,\n",
        "    base_url=BASE_URL\n",
        ")\n",
        "\n",
        "set_tracing_disabled(disabled=True)\n",
        "\n",
        "async def main():\n",
        "    # This agent will use the custom LLM provider\n",
        "    agent = Agent(\n",
        "        name=\"Assistant\",\n",
        "        instructions=\"You only respond in haikus.\",\n",
        "        model=OpenAIChatCompletionsModel(model=MODEL, openai_client=client),\n",
        "    )\n",
        "\n",
        "    result = await Runner.run(\n",
        "        agent,\n",
        "        \"Tell me about recursion in programming.\",\n",
        "    )\n",
        "    print(result.final_output)\n",
        "\n",
        "\n",
        "if __name__ == \"__main__\":\n",
        "    asyncio.run(main())"
      ]
    },
    {
      "cell_type": "markdown",
      "metadata": {
        "id": "iHWrUZu9Po1O"
      },
      "source": [
        "# OpenRouter 404 Error Solution\n",
        "\n",
        "## Error - No endpoints found matching\n",
        "```python\n",
        "NotFoundError: Error code: 404 - {'error': {'message': 'No endpoints found matching your data policy. Enable prompt training here: https://openrouter.ai/settings/privacy', 'code': 404}}\n",
        "```\n",
        "\n",
        "## Cause\n",
        "This error occurs when OpenRouter API can't find endpoints matching your data policy, typically because prompt training is disabled.\n",
        "\n",
        "## Solution\n",
        "\n",
        "1. **Enable Prompt Training**:\n",
        "   - Visit [OpenRouter Privacy Settings](https://openrouter.ai/settings/privacy)\n",
        "   - Toggle ON \"Prompt Training\" option\n",
        "\n",
        "2. **Re-run your code** after enabling\n",
        "\n",
        "![OpenRouter Settings Screenshot](https://github.com/panaversity/learn-agentic-ai/blob/main/01_ai_agents_first/02_openrouter/openrouter.png?raw=1)\n",
        "*(Example: Enable prompt training in privacy settings)*\n",
        "\n",
        "## Prevention\n",
        "Keep prompt training enabled for uninterrupted API access.\n",
        "```"
      ]
    }
  ],
  "metadata": {
    "colab": {
      "provenance": [],
      "include_colab_link": true
    },
    "kernelspec": {
      "display_name": "Python 3",
      "name": "python3"
    },
    "language_info": {
      "name": "python"
    }
  },
  "nbformat": 4,
  "nbformat_minor": 0
}